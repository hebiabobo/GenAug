{
 "cells": [
  {
   "cell_type": "code",
   "execution_count": null,
   "metadata": {
    "colab": {},
    "colab_type": "code",
    "id": "Z_u9fTmoFruZ"
   },
   "outputs": [],
   "source": [
    "import os\n",
    "import random\n",
    "main_path = \"data\"\n",
    "os.chdir(main_path)"
   ]
  },
  {
   "cell_type": "markdown",
   "metadata": {
    "colab_type": "text",
    "id": "S7J5nVhYFus3"
   },
   "source": [
    "# Prepare Final Training Data"
   ]
  },
  {
   "cell_type": "markdown",
   "metadata": {
    "colab_type": "text",
    "id": "ifJQzo-Xuvuh"
   },
   "source": [
    "## Amount Experiments (Together)"
   ]
  },
  {
   "cell_type": "code",
   "execution_count": null,
   "metadata": {
    "colab": {},
    "colab_type": "code",
    "id": "BzFGd1kqIdqY"
   },
   "outputs": [],
   "source": [
    "def write_lst(lst, output_file):\n",
    "    out_f = open(output_file, 'w')\n",
    "    print(\"Writing lines to file...\")\n",
    "    out_f.writelines(lst)\n",
    "    out_f.close()\n",
    "    print(\"Lines written to files\")"
   ]
  },
  {
   "cell_type": "code",
   "execution_count": null,
   "metadata": {
    "colab": {},
    "colab_type": "code",
    "id": "zW_QGEoTId5J"
   },
   "outputs": [],
   "source": [
    "def get_final_train_lst_together(files_lst):\n",
    "    files = [open(files_lst[i], 'r', encoding='utf-8') for i in range(len(files_lst))]\n",
    "    final_train_lst = []\n",
    "    gold = files[0].readlines()\n",
    "    noise = files[1].readlines()\n",
    "    syns = files[2].readlines()\n",
    "    hypos = files[3].readlines()\n",
    "    hypers = files[4].readlines()\n",
    "    STE = files[5].readlines()\n",
    "\n",
    "    final_variation_lst_4x = []\n",
    "    final_variation_lst_3x = []\n",
    "    final_variation_lst_2x = []\n",
    "\n",
    "    variation_lst = [x.strip('\\n') for x in STE[:16667]] + [x.strip('\\n') for x in noise[16667:33333]] + \\\n",
    "    [x.strip('\\n') for x in hypers[33333:38889]] + [x.strip('\\n') for x in syns[38889:44445]] + [x.strip('\\n') for x in hypos[44445:50000]]\n",
    "    for x in variation_lst:\n",
    "        choices = x.split('\\t')\n",
    "        for element in choices:\n",
    "            final_variation_lst_4x.append(element.strip('\\n') + '\\n')    \n",
    "    counter = 0\n",
    "    noise_counter = 0\n",
    "    STE_counter = 0\n",
    "    syns_counter = 0\n",
    "    hypos_counter = 0\n",
    "    hypers_counter = 0\n",
    "    for x in variation_lst:\n",
    "        if len(x.split('\\t')) >= 2:\n",
    "            if counter < 16667:\n",
    "                STE_counter += 1\n",
    "            elif counter >= 16667 and counter < 33333:\n",
    "                noise_counter += 1\n",
    "            elif counter >= 33333 and counter < 38889:\n",
    "                hypers_counter += 1\n",
    "            elif counter >= 38889 and counter < 44445:\n",
    "                syns_counter += 1\n",
    "            elif counter >= 44445 and counter < 50000:\n",
    "                hypos_counter += 1\n",
    "            choices = random.sample(x.split('\\t'),2)\n",
    "            choice = random.choice(choices)\n",
    "            final_variation_lst_2x.append(choice.strip('\\n') + '\\n')\n",
    "            for element in choices:\n",
    "                final_variation_lst_3x.append(element.strip('\\n') + '\\n')\n",
    "        counter += 1\n",
    "\n",
    "    final_variation_lst_15x = final_variation_lst_2x[:8333] + final_variation_lst_2x[16667:25000] + final_variation_lst_2x[33334:36112] + \\\n",
    "    final_variation_lst_2x[38890:41668] + final_variation_lst_2x[44446:47224]\n",
    "    \n",
    "    final_train_lst_2x = gold + final_variation_lst_2x\n",
    "    final_train_lst_3x = gold + final_variation_lst_3x\n",
    "    final_train_lst_4x = gold + final_variation_lst_4x\n",
    "    final_train_lst_15x = gold + final_variation_lst_15x\n",
    "\n",
    "    random.shuffle(final_train_lst_2x)\n",
    "    random.shuffle(final_train_lst_3x)\n",
    "    random.shuffle(final_train_lst_4x)\n",
    "    random.shuffle(final_train_lst_15x)\n",
    "\n",
    "    print(len(final_train_lst_2x))\n",
    "    print(len(final_train_lst_3x))\n",
    "    print(len(final_train_lst_4x))\n",
    "    print(len(final_train_lst_15x))\n",
    "\n",
    "    return final_train_lst_2x, final_train_lst_3x, final_train_lst_4x, final_train_lst_15x"
   ]
  },
  {
   "cell_type": "code",
   "execution_count": null,
   "metadata": {
    "colab": {
     "base_uri": "https://localhost:8080/",
     "height": 219
    },
    "colab_type": "code",
    "id": "YxR_1XP_IfHT",
    "outputId": "038643c9-718a-4b58-e6b1-dc0f6b17aaf3"
   },
   "outputs": [],
   "source": [
    "random.seed(54321)\n",
    "files_lst = ['yelp_train.txt','yelp_train_noise.txt','WordNet/yelp_train_synonyms.txt',\\\n",
    "             'yelp_train_hyponyms.txt','yelp_train_hypernyms.txt',\\\n",
    "             'SMERTI/yelp_train_SMERTI_outputs.txt']\n",
    "final_train_lst_2x, final_train_lst_3x, final_train_lst_4x, final_train_lst_15x = get_final_train_lst_together(files_lst)\n",
    "          \n",
    "output_file_2x = 'yelp_train_2x.txt'\n",
    "output_file_3x = 'yelp_train_3x.txt'\n",
    "output_file_4x = 'yelp_train_4x.txt'\n",
    "output_file_15x = 'yelp_train_1.5x.txt'\n",
    "\n",
    "#write_lst(final_train_lst_2x, output_file_2x)\n",
    "#write_lst(final_train_lst_3x, output_file_3x)\n",
    "#write_lst(final_train_lst_4x, output_file_4x)\n",
    "#write_lst(final_train_lst_15x, output_file_15x)"
   ]
  },
  {
   "cell_type": "markdown",
   "metadata": {
    "colab_type": "text",
    "id": "aZZ7-gRruyOB"
   },
   "source": [
    "## Augmentation Method Experiments (Single Variations - Excluding Random Trio)"
   ]
  },
  {
   "cell_type": "code",
   "execution_count": null,
   "metadata": {
    "colab": {},
    "colab_type": "code",
    "id": "Ml1ZpOfsgDwQ"
   },
   "outputs": [],
   "source": [
    "def get_final_train_lst(file1, file2, limit=1000000):\n",
    "    f1 = open(file1, 'r', encoding='utf-8')\n",
    "    f2 = open(file2, 'r', encoding='utf-8')\n",
    "    gold = f1.readlines()\n",
    "    variation = f2.readlines()\n",
    "    blank_count = sum([1 for x in variation if x.strip() == '<blank>'])\n",
    "    final_train_lst = []\n",
    "    variation_lst = []\n",
    "    counter = 0\n",
    "    for line in variation:\n",
    "        if counter < limit:\n",
    "            if line.strip() != '<blank>' and len(line.split('\\t')) >= 1:\n",
    "                choices = line.split('\\t')\n",
    "                chosen = random.sample(choices, 1)\n",
    "                for item in chosen:\n",
    "                    variation_lst.append(item.strip('\\n')+'\\n')\n",
    "                counter += 1\n",
    "    final_train_lst = gold + variation_lst\n",
    "    random.shuffle(final_train_lst)\n",
    "    print(len(final_train_lst))\n",
    "    return final_train_lst\n",
    "\n",
    "def write_lst(lst, output_file):\n",
    "    out_f = open(output_file, 'w')\n",
    "    print(\"Writing lines to file...\")\n",
    "    out_f.writelines(lst)\n",
    "    out_f.close()\n",
    "    print(\"Lines written to files\")"
   ]
  },
  {
   "cell_type": "code",
   "execution_count": null,
   "metadata": {
    "colab": {
     "base_uri": "https://localhost:8080/",
     "height": 109
    },
    "colab_type": "code",
    "id": "P1ip9Aumgv-A",
    "outputId": "7e319141-f3a1-47af-c495-719e86f2e57e"
   },
   "outputs": [],
   "source": [
    "#Example execution code for SMERTI:\n",
    "random.seed(54321)\n",
    "file1 = 'yelp_train.txt'\n",
    "file2 = 'SMERTI/yelp_train_SMERTI_outputs.txt'\n",
    "output_file = 'yelp_train_SMERTI_final.txt'\n",
    "final_train_lst = get_final_train_lst(file1, file2)\n",
    "#write_lst(final_train_lst, output_file)"
   ]
  },
  {
   "cell_type": "markdown",
   "metadata": {
    "colab_type": "text",
    "id": "Lr9jw0U4vB5E"
   },
   "source": [
    "## Random Trio"
   ]
  },
  {
   "cell_type": "code",
   "execution_count": null,
   "metadata": {
    "colab": {},
    "colab_type": "code",
    "id": "C3V7voDivE6y"
   },
   "outputs": [],
   "source": [
    "def get_final_train_lst_random(files_lst):\n",
    "    files = [open(files_lst[i], 'r', encoding='utf-8') for i in range(len(files_lst))]\n",
    "    final_train_lst = []\n",
    "    final_variation_lst = []\n",
    "    gold = files[0].readlines()\n",
    "    insertion = files[1].readlines()\n",
    "    swap = files[2].readlines()\n",
    "    deletion = files[3].readlines()\n",
    "    counter = 0\n",
    "    for line1, line2, line3 in zip(insertion, swap, deletion):\n",
    "        counter += 1\n",
    "        try:\n",
    "            chosen_line = random.choice([x for x in [line1.strip('\\n'),line2.strip('\\n'),line3.strip('\\n')] if x.split('\\t')[0] != '<blank>' or x.split('\\t')[1] != '<blank>'])\n",
    "        except:\n",
    "            continue\n",
    "        if chosen_line.split('\\t')[0] != '<blank>' and chosen_line.split('\\t')[1] != '<blank>':\n",
    "            chosen = random.choice(chosen_line.split('\\t'))\n",
    "        elif chosen_line.split('\\t')[0] != '<blank>':\n",
    "            chosen = chosen_line.split('\\t')[0]\n",
    "        else:\n",
    "            chosen = chosen_line.split('\\t')[1]\n",
    "        final_variation_lst.append(chosen.strip('\\n')+'\\n')\n",
    "    final_train_lst = gold + final_variation_lst\n",
    "    random.shuffle(final_train_lst)\n",
    "    print(len(final_train_lst))\n",
    "    return final_train_lst\n",
    "\n",
    "\n",
    "def write_lst(lst, output_file):\n",
    "    out_f = open(output_file, 'w')\n",
    "    print(\"Writing lines to file...\")\n",
    "    out_f.writelines(lst)\n",
    "    out_f.close()\n",
    "    print(\"Lines written to files\")"
   ]
  },
  {
   "cell_type": "code",
   "execution_count": null,
   "metadata": {
    "colab": {},
    "colab_type": "code",
    "id": "mlWAPvnSvGYB"
   },
   "outputs": [],
   "source": [
    "random.seed(54321)\n",
    "files_lst = ['yelp_train.txt','yelp_train_random_insert.txt',\\\n",
    "             'yelp_train_random_swap.txt','yelp_train_random_delete.txt']\n",
    "output_file = 'yelp_train_random_final.txt'\n",
    "\n",
    "final_train_lst = get_final_train_lst_random(files_lst)\n",
    "#write_lst(final_train_lst, output_file)"
   ]
  }
 ],
 "metadata": {
  "colab": {
   "collapsed_sections": [],
   "name": "PROSEAM_Finetuning_Functions.ipynb",
   "provenance": []
  },
  "kernelspec": {
   "display_name": "Python 3",
   "language": "python",
   "name": "python3"
  },
  "language_info": {
   "codemirror_mode": {
    "name": "ipython",
    "version": 3
   },
   "file_extension": ".py",
   "mimetype": "text/x-python",
   "name": "python",
   "nbconvert_exporter": "python",
   "pygments_lexer": "ipython3",
   "version": "3.7.3"
  }
 },
 "nbformat": 4,
 "nbformat_minor": 1
}
