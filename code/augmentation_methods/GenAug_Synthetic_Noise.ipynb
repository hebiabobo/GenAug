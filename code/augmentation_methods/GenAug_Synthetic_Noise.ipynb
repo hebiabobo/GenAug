{
 "cells": [
  {
   "cell_type": "code",
   "execution_count": null,
   "metadata": {
    "colab": {},
    "colab_type": "code",
    "id": "3W4JOpp1ZG1M"
   },
   "outputs": [],
   "source": [
    "import os\n",
    "main_path = \"data\"\n",
    "os.chdir(main_path)\n",
    "#!nvidia-smi"
   ]
  },
  {
   "cell_type": "code",
   "execution_count": null,
   "metadata": {
    "colab": {
     "base_uri": "https://localhost:8080/",
     "height": 72
    },
    "colab_type": "code",
    "id": "aVcv3o8oZL-r",
    "outputId": "763cd31e-e288-4561-db83-010cb47b15be"
   },
   "outputs": [
    {
     "name": "stdout",
     "output_type": "stream",
     "text": [
      "jsubreddit\n",
      "subreddit\n",
      "subreddit\n"
     ]
    }
   ],
   "source": [
    "import io, json, collections, pprint, time\n",
    "import random\n",
    "import string\n",
    "import re\n",
    "import unicodedata\n",
    "from string import punctuation\n",
    "string.ascii_lowercase\n",
    "\n",
    "\n",
    "def add_letters(word, probability):\n",
    "    k = len(word)\n",
    "    i = 0\n",
    "    while i < k:\n",
    "        if random.random() < probability:\n",
    "            word = word[:i] + random.choice(string.ascii_lowercase) + word[i:]\n",
    "            i += 1\n",
    "            k += 1\n",
    "        i += 1\n",
    "    if random.random() < probability:\n",
    "        word = word[:len(word)] + random.choice(string.ascii_lowercase)\n",
    "    return word\n",
    "\n",
    "\n",
    "def remove_letters(word, probability):\n",
    "    for i in range(len(word)-1):\n",
    "        if random.random() < probability:\n",
    "            word = word[:i] + \" \" + word[i+1:]\n",
    "    if random.random() < probability:\n",
    "        word = word[:len(word)-1]\n",
    "    word = re.sub(\" \", \"\", word)\n",
    "    return word\n",
    "\n",
    "\n",
    "def swap_letters(word, probability):\n",
    "    k = len(word)\n",
    "    if k < 2:\n",
    "        return word\n",
    "    else:\n",
    "        i = 0\n",
    "        skip = False\n",
    "        for i in range(k-2):\n",
    "            if skip == False and random.random() < probability:\n",
    "                word = word[:i] + word[i+1] + word[i] + word[i+2:]\n",
    "                skip = True\n",
    "            else:\n",
    "                skip = False\n",
    "        if skip == False and random.random() < probability:\n",
    "            word = word[:k-2] + word[k-1] + word[k-2]\n",
    "    return word\n",
    "\n",
    "\n",
    "# add noise without swapping (only insertions and deletions)\n",
    "def add_noise(word, probability):\n",
    "    word = remove_letters(word, probability/3)\n",
    "    word = add_letters(word, probability/3)\n",
    "    return word\n",
    "\n",
    "\n",
    "# add noise with swapping\n",
    "def add_noise_swaps(word, probability):\n",
    "    word = swap_letters(word, probability/3)\n",
    "    word = remove_letters(word, probability/3)\n",
    "    word = add_letters(word, probability/3)\n",
    "    return word\n",
    "\n",
    "\n",
    "# add noise with swapping but ignore first and last char of every word (this version used in the paper)\n",
    "def add_noise_swaps_v2(word, probability):\n",
    "    new_word = swap_letters(word[1:-1], probability/3)\n",
    "    new_word = remove_letters(new_word, probability/3)\n",
    "    new_word = add_letters(new_word, probability/3)\n",
    "    return word[0] + new_word + word[-1]\n",
    "\n",
    "\n",
    "#Example:\n",
    "random.seed(54321)\n",
    "word = \"subreddit\"\n",
    "probability = 0.10\n",
    "new_word = add_noise(word, probability)\n",
    "print(new_word)\n",
    "new_word_2 = add_noise_swaps(word, probability)\n",
    "print(new_word_2)\n",
    "new_word_3 = add_noise_swaps_v2(word, probability)\n",
    "print(new_word_3)"
   ]
  },
  {
   "cell_type": "code",
   "execution_count": null,
   "metadata": {
    "colab": {},
    "colab_type": "code",
    "id": "7l-arZiLoTjG"
   },
   "outputs": [],
   "source": [
    "def synthetic_noise_main(prompt, prob_lst, fnc):\n",
    "    new_prompt_lst = []\n",
    "    noise_words = prompt.split('\\t')[0].split()\n",
    "    clean_string = prompt.split('\\t')[1]\n",
    "    for prob in prob_lst:\n",
    "        new_words = []\n",
    "        for word in noise_words:\n",
    "            if len(word) > 1:\n",
    "                new_word = fnc(word, prob)\n",
    "                new_words.append(new_word)\n",
    "            else:\n",
    "                new_words.append(word)\n",
    "        new_prompt = ' '.join(new_words) + ' ' + clean_string\n",
    "        new_prompt_lst.append(new_prompt)\n",
    "    return new_prompt_lst\n",
    "\n",
    "\n",
    "def main(input_file, output_file, prob_lst, fnc):\n",
    "    main_prompt_lst = []\n",
    "    with open(input_file) as in_f:\n",
    "        input_prompts = in_f.readlines()\n",
    "    counter = 0\n",
    "    for prompt in input_prompts:\n",
    "        new_prompt_lst = synthetic_noise_main(prompt.strip('\\n'), prob_lst, fnc)\n",
    "        if new_prompt_lst is not None:\n",
    "            main_prompt_lst.append('\\t'.join(new_prompt_lst))\n",
    "        counter += 1\n",
    "    with open(output_file, 'w') as out_f:\n",
    "        out_f.write('\\n'.join(main_prompt_lst))\n",
    "    print(\"Lines written to file\")\n",
    "    return main_prompt_lst"
   ]
  },
  {
   "cell_type": "code",
   "execution_count": null,
   "metadata": {
    "colab": {
     "base_uri": "https://localhost:8080/",
     "height": 954
    },
    "colab_type": "code",
    "id": "uCuec4NKuVjH",
    "outputId": "c2855f42-86f3-4152-91e2-7057dd7c8967"
   },
   "outputs": [],
   "source": [
    "random.seed(54321)\n",
    "fnc = add_noise_swaps_v2\n",
    "prob_lst = [0.05, 0.10, 0.15]\n",
    "input_file = 'yelp_train_0.5.txt'\n",
    "output_file = 'yelp_train_synthetic-noise.txt'\n",
    "\n",
    "main_prompt_lst = main(input_file, output_file, prob_lst, fnc)"
   ]
  }
 ],
 "metadata": {
  "colab": {
   "collapsed_sections": [],
   "name": "PROSEAM_synthetic_noise (NEW).ipynb",
   "provenance": []
  },
  "kernelspec": {
   "display_name": "Python 3",
   "language": "python",
   "name": "python3"
  },
  "language_info": {
   "codemirror_mode": {
    "name": "ipython",
    "version": 3
   },
   "file_extension": ".py",
   "mimetype": "text/x-python",
   "name": "python",
   "nbconvert_exporter": "python",
   "pygments_lexer": "ipython3",
   "version": "3.7.3"
  }
 },
 "nbformat": 4,
 "nbformat_minor": 1
}
